{
 "cells": [
  {
   "cell_type": "markdown",
   "metadata": {},
   "source": [
    "first we import numpy and matplot lib as usual"
   ]
  },
  {
   "cell_type": "code",
   "execution_count": null,
   "metadata": {},
   "outputs": [],
   "source": [
    "%matplotlib inline\n",
    "import numpy as np\n",
    "import matplotlib.pyplot as plt"
   ]
  },
  {
   "cell_type": "markdown",
   "metadata": {},
   "source": [
    "then we define an array of angles, and their sines and cosines using numpy. then we will use linspace"
   ]
  },
  {
   "cell_type": "code",
   "execution_count": null,
   "metadata": {},
   "outputs": [],
   "source": [
    "x = np.linspace(0,2*np.pi,100)\n",
    "print(x[-1],2*np.pi)\n",
    "\n",
    "y = np.sin(x)\n",
    "z = np.cos(x)\n",
    "w = np.sin(4*x)\n",
    "v = np.cos(4*x)"
   ]
  },
  {
   "cell_type": "markdown",
   "metadata": {},
   "source": [
    "now, lets make a two panel plot side-by-side"
   ]
  },
  {
   "cell_type": "code",
   "execution_count": null,
   "metadata": {},
   "outputs": [],
   "source": [
    "#call subplots to generate multipanel figure. this means 1 row, 2 columns of figures\n",
    "f, axarr = plt.subplots(1,2)\n",
    "\n",
    "#treat axarr as an array, from left to right\n",
    "\n",
    "#first panel\n",
    "axarr[0].plot(x, y)\n",
    "axarr[0].set_xlabel('x')    #changes the label of x axis\n",
    "axarr[0].set_ylabel('sin(x)')     #changes label of y axis\n",
    "axarr[0].set_title(r'$\\sin(x)$')       \n",
    "#when you wanna call latec rendering, labeling the panel, in latec\n",
    "#second panel\n",
    "axarr[1].plot(x, z)\n",
    "axarr[1].set_xlabel('x')\n",
    "axarr[1].set_ylabel('cos(x)')\n",
    "axarr[1].set_title(r'$\\cos(x)$')"
   ]
  },
  {
   "cell_type": "markdown",
   "metadata": {},
   "source": [
    "here we can see that matplotlib has the panels too close together\n",
    "\n",
    "we can adjust that using the subplots_adjust() function."
   ]
  },
  {
   "cell_type": "code",
   "execution_count": null,
   "metadata": {},
   "outputs": [],
   "source": [
    "#call subplots to generate multipanel figure. this means 1 row, 2 columns of figures\n",
    "f, axarr = plt.subplots(1,2)\n",
    "\n",
    "#treat axarr as an array, from left to right\n",
    "\n",
    "#first panel\n",
    "axarr[0].plot(x, y)\n",
    "axarr[0].set_xlabel('x')    #changes the label of x axis\n",
    "axarr[0].set_ylabel('sin(x)')     #changes label of y axis\n",
    "axarr[0].set_title(r'$\\sin(x)$')       \n",
    "#when you wanna call latec rendering, labeling the panel, in latec\n",
    "#second panel\n",
    "axarr[1].plot(x, z)\n",
    "axarr[1].set_xlabel('x')\n",
    "axarr[1].set_ylabel('cos(x)')\n",
    "axarr[1].set_title(r'$\\cos(x)$')\n",
    "\n",
    "#add more space between the figures\n",
    "f.subplots_adjust(wspace=0.4)"
   ]
  },
  {
   "cell_type": "markdown",
   "metadata": {},
   "source": [
    "ok, but the axis ratios are all squished, lets fix that too"
   ]
  },
  {
   "cell_type": "code",
   "execution_count": null,
   "metadata": {},
   "outputs": [],
   "source": []
  },
  {
   "cell_type": "code",
   "execution_count": null,
   "metadata": {},
   "outputs": [],
   "source": [
    "#call subplots to generate multipanel figure. this means 1 row, 2 columns of figures\n",
    "f, axarr = plt.subplots(1,2)\n",
    "\n",
    "#treat axarr as an array, from left to right\n",
    "\n",
    "#first panel\n",
    "axarr[0].plot(x, y)\n",
    "axarr[0].set_xlabel('x')    #changes the label of x axis\n",
    "axarr[0].set_ylabel('sin(x)')     #changes label of y axis\n",
    "axarr[0].set_title(r'$\\sin(x)$')       \n",
    "#when you wanna call latec rendering, labeling the panel, in latec\n",
    "#second panel\n",
    "axarr[1].plot(x, z)\n",
    "axarr[1].set_xlabel('x')\n",
    "axarr[1].set_ylabel('cos(x)')\n",
    "axarr[1].set_title(r'$\\cos(x)$')\n",
    "\n",
    "#add more space between the figures\n",
    "f.subplots_adjust(wspace=0.4)\n",
    "\n",
    "#fix that axis ratio\n",
    "#here are two possible options\n",
    "axarr[0].set_aspect('equal')     #data ranges are = on x and y axes to make square plot. make ratio of tick units =\n",
    "axarr[1].set_aspect(np.pi)       #make a square by setting the aspect to be the ratio of the tick unit range"
   ]
  },
  {
   "cell_type": "code",
   "execution_count": null,
   "metadata": {},
   "outputs": [],
   "source": [
    "#adjust the size of the figure\n",
    "fig = plt.figure(figsize=(6,6))     #tuple is 6x6, 6x6 sixe figure\n",
    "\n",
    "\n",
    "plt.plot(x, y, label=r'$y = \\sin(x)$') #added a label to a line, write the mathematical equation y=sinx in nice font\n",
    "plt.plot(x, z, label=r'$y = \\cos(x)$') #added label to second line\n",
    "plt.plot(x, w, label=r'$y = \\sin(4x)$') #added label to 3rd line\n",
    "plt.plot(x, v, label=r'$y = \\cos(4x)$')  #added label to 4th line\n",
    "\n",
    "plt.xlabel(r'$x$')     #note set_xlabel vs. xlabel\n",
    "plt.ylabel(r'$y(x)$')  #note set_ylabel vs. ylabel\n",
    "plt.xlim([0,2*np.pi])  #note set_xlim vs. xlim\n",
    "plt.ylim([-1.2,1.2])    #note set_ylim vs. xlim\n",
    "plt.legend(loc=1,framealpha=0.95)  #add a legend with a semi transparent frame in upper right hand corner\n",
    "\n",
    "#fix the axis ratio\n",
    "plt.gca().set_aspect(np.pi/1.2)   #use gca to get current axis()"
   ]
  },
  {
   "cell_type": "code",
   "execution_count": null,
   "metadata": {},
   "outputs": [],
   "source": []
  }
 ],
 "metadata": {
  "kernelspec": {
   "display_name": "Python 3",
   "language": "python",
   "name": "python3"
  },
  "language_info": {
   "codemirror_mode": {
    "name": "ipython",
    "version": 3
   },
   "file_extension": ".py",
   "mimetype": "text/x-python",
   "name": "python",
   "nbconvert_exporter": "python",
   "pygments_lexer": "ipython3",
   "version": "3.6.5"
  }
 },
 "nbformat": 4,
 "nbformat_minor": 2
}
