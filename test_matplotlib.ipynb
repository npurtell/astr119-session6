{
 "cells": [
  {
   "cell_type": "code",
   "execution_count": null,
   "metadata": {},
   "outputs": [],
   "source": [
    "%matplotlib inline\n",
    "import numpy as np\n",
    "import matplotlib.pyplot as plt"
   ]
  },
  {
   "cell_type": "code",
   "execution_count": null,
   "metadata": {},
   "outputs": [],
   "source": [
    "x = np.arange(0, 5, 0.1)         #create x = [0,5]in 0.1 increments\n",
    "y = np.sin(x)                 #y = sin(x)\n",
    "plt.plot(x,y)                 #plot y vs x\n",
    "plt.xlabel('x')               #label x-axis x\n",
    "plt.ylabel('sin(x)')          #label y axis as sin(x)\n",
    "plt.show()"
   ]
  },
  {
   "cell_type": "code",
   "execution_count": null,
   "metadata": {},
   "outputs": [],
   "source": [
    "x = np.arange(0, 5, 0.1)         #create x = [0,5]in 0.1 increments\n",
    "y = np.sin(x)                 #y = sin(x)\n",
    "plt.plot(x,y)                 #plot y vs x\n",
    "plt.xlabel('x')               #label x-axis x\n",
    "plt.ylabel('sin(x)')          #label y axis as sin(x)\n",
    "plt.savefig('sinx.png',bbox_inches=\"tight\",dpi=600)"
   ]
  },
  {
   "cell_type": "code",
   "execution_count": null,
   "metadata": {},
   "outputs": [],
   "source": []
  }
 ],
 "metadata": {
  "kernelspec": {
   "display_name": "Python 3",
   "language": "python",
   "name": "python3"
  },
  "language_info": {
   "codemirror_mode": {
    "name": "ipython",
    "version": 3
   },
   "file_extension": ".py",
   "mimetype": "text/x-python",
   "name": "python",
   "nbconvert_exporter": "python",
   "pygments_lexer": "ipython3",
   "version": "3.6.5"
  }
 },
 "nbformat": 4,
 "nbformat_minor": 2
}
